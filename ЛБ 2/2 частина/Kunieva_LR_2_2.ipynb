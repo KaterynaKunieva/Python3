{
 "cells": [
  {
   "cell_type": "markdown",
   "metadata": {},
   "source": [
    "### <center> Лабораторна робота №2_2 <center>"
   ]
  },
  {
   "cell_type": "markdown",
   "metadata": {},
   "source": [
    "### Завдання 1, Завдання 2"
   ]
  },
  {
   "cell_type": "markdown",
   "metadata": {},
   "source": [
    "![task1](task1.png)"
   ]
  },
  {
   "cell_type": "markdown",
   "metadata": {},
   "source": [
    "![task2](task2.png)"
   ]
  },
  {
   "cell_type": "code",
   "execution_count": 368,
   "metadata": {},
   "outputs": [],
   "source": [
    "import numpy as np \n",
    "import scipy \n",
    "from numpy import linspace, array \n",
    "from pylab import plot, xlabel, ylabel, legend, show \n",
    "from scipy.integrate import odeint \n",
    "from scipy import linalg\n",
    "import sympy as sym\n",
    "sym.init_printing() "
   ]
  },
  {
   "cell_type": "code",
   "execution_count": 369,
   "metadata": {},
   "outputs": [],
   "source": [
    "# функція для обчислення Якобіана: \n",
    "def Jacobian(v_str, f_list):\n",
    "    vars = sym.symbols(v_str)\n",
    "    f = sym.sympify(f_list)\n",
    "    J = sym.zeros(len(f),len(vars))\n",
    "    for i, fi in enumerate(f):\n",
    "        for j, s in enumerate(vars):\n",
    "            J[i,j] = sym.diff(fi, s)\n",
    "    return J"
   ]
  },
  {
   "cell_type": "code",
   "execution_count": 370,
   "metadata": {},
   "outputs": [],
   "source": [
    "# нульова матриця: \n",
    "C = np.zeros((2,2))\n",
    "# часовий інтервал \n",
    "t0 = 0\n",
    "t1 = 20\n",
    "N = 2000\n",
    "time = linspace(t0, t1, N+1)\n",
    "# початкові значення \n",
    "x0 = 10\n",
    "y0 = 6\n",
    "r0 = np.array([x0, y0], float) "
   ]
  },
  {
   "cell_type": "markdown",
   "metadata": {},
   "source": [
    "#### Система (1)"
   ]
  },
  {
   "cell_type": "markdown",
   "metadata": {},
   "source": [
    "![model](model_1.png)"
   ]
  },
  {
   "cell_type": "markdown",
   "metadata": {},
   "source": [
    "##### Особливі точки"
   ]
  },
  {
   "cell_type": "code",
   "execution_count": 371,
   "metadata": {},
   "outputs": [
    {
     "data": {
      "image/png": "[encoded data removed]",
      "text/latex": [
       "$\\displaystyle \\left[ \\left( 0, \\  0\\right), \\  \\left( 0, \\  \\frac{c_{1}}{\\beta_{1}}\\right), \\  \\left( \\frac{a_{1}}{\\alpha_{1}}, \\  0\\right), \\  \\left( - \\frac{a_{1} \\beta_{1} - b_{1} c_{1}}{- \\alpha_{1} \\beta_{1} + b_{1} d_{1}}, \\  \\frac{a_{1} d_{1} - \\alpha_{1} c_{1}}{- \\alpha_{1} \\beta_{1} + b_{1} d_{1}}\\right)\\right]$"
      ],
      "text/plain": [
       "⎡        ⎛   c₁⎞  ⎛a₁   ⎞  ⎛-(a₁⋅β₁ - b₁⋅c₁)   a₁⋅d₁ - α₁⋅c₁ ⎞⎤\n",
       "⎢(0, 0), ⎜0, ──⎟, ⎜──, 0⎟, ⎜─────────────────, ──────────────⎟⎥\n",
       "⎣        ⎝   β₁⎠  ⎝α₁   ⎠  ⎝  -α₁⋅β₁ + b₁⋅d₁   -α₁⋅β₁ + b₁⋅d₁⎠⎦"
      ]
     },
     "execution_count": 371,
     "metadata": {},
     "output_type": "execute_result"
    }
   ],
   "source": [
    "# символьні змінні\n",
    "x,y = sym.symbols('x,y') #N1, N2\n",
    "a1 = sym.Symbol('a1') #a \n",
    "b1 = sym.Symbol('b1') #b \n",
    "alpha1 = sym.Symbol('alpha1') #alpha\n",
    "c1 = sym.Symbol('c1') #c \n",
    "beta1 = sym.Symbol('beta1') #beta\n",
    "d1 = sym.Symbol('d1') #d\n",
    "\n",
    "# вирази: \n",
    "f = sym.Eq(a1*x-b1*x*y-alpha1*x**2, 0)\n",
    "g = sym.Eq(c1*y-d1*x*y-beta1*y**2, 0)\n",
    "sym.solve([f,g],(x,y))"
   ]
  },
  {
   "cell_type": "code",
   "execution_count": 372,
   "metadata": {},
   "outputs": [],
   "source": [
    "# Параметри моделі \n",
    "a = 3.8 \n",
    "b = 1.9 \n",
    "c = 2 \n",
    "d = 1.3\n",
    "alpha = 0.16 \n",
    "beta = 0.16"
   ]
  },
  {
   "cell_type": "code",
   "execution_count": 373,
   "metadata": {},
   "outputs": [
    {
     "data": {
      "image/png": "[encoded data removed]",
      "text/latex": [
       "$\\displaystyle \\left[ \\left( 0.0, \\  0.0\\right), \\  \\left( 0.0, \\  12.5\\right), \\  \\left( 1.30584192439863, \\  1.89003436426117\\right), \\  \\left( 23.75, \\  0.0\\right)\\right]$"
      ],
      "text/plain": [
       "[(0.0, 0.0), (0.0, 12.5), (1.30584192439863, 1.89003436426117), (23.75, 0.0)]"
      ]
     },
     "execution_count": 373,
     "metadata": {},
     "output_type": "execute_result"
    }
   ],
   "source": [
    "# підставляємо параметри: \n",
    "f = sym.Eq(a*x-b*x*y-alpha*x**2, 0)\n",
    "g = sym.Eq(c*y-d*x*y-beta*y**2, 0)\n",
    "sym.solve([f,g],(x,y))"
   ]
  },
  {
   "cell_type": "code",
   "execution_count": 374,
   "metadata": {},
   "outputs": [
    {
     "data": {
      "image/png": "[encoded data removed]",
      "text/latex": [
       "$\\displaystyle \\left[ 0.0, \\  0.0, \\  0.0, \\  12.5, \\  1.31, \\  1.89, \\  23.75, \\  0.0\\right]$"
      ],
      "text/plain": [
       "[0.0, 0.0, 0.0, 12.5, 1.31, 1.89, 23.75, 0.0]"
      ]
     },
     "execution_count": 374,
     "metadata": {},
     "output_type": "execute_result"
    }
   ],
   "source": [
    "D = sym.solve([f, g], (x,y)) \n",
    "coord_list = [v.round(2) for t in D for v in t]\n",
    "coord_list"
   ]
  },
  {
   "cell_type": "code",
   "execution_count": 375,
   "metadata": {},
   "outputs": [
    {
     "data": {
      "text/latex": [
       "$\\displaystyle \\left[\\begin{matrix}- 0.32 x - 1.9 y + 3.8 & - 1.9 x\\\\- 1.3 y & - 1.3 x - 0.32 y + 2\\end{matrix}\\right]$"
      ],
      "text/plain": [
       "⎡-0.32⋅x - 1.9⋅y + 3.8        -1.9⋅x       ⎤\n",
       "⎢                                          ⎥\n",
       "⎣       -1.3⋅y          -1.3⋅x - 0.32⋅y + 2⎦"
      ]
     },
     "execution_count": 375,
     "metadata": {},
     "output_type": "execute_result"
    }
   ],
   "source": [
    "# Якобіан: \n",
    "Jacobian('x , y', ['3.8*x-1.9*x*y-0.16*x**2','2*y-1.3*x*y-0.16*y**2'])"
   ]
  },
  {
   "cell_type": "code",
   "execution_count": 376,
   "metadata": {},
   "outputs": [],
   "source": [
    "# функція для визначення типу особливих точок: \n",
    "def type_point(x, y): \n",
    "  C[0,0] = -0.32*x-1.9*y+3.8\n",
    "  C[0,1] = -1.9*x\n",
    "  C[1,0] = -1.3*y\n",
    "  C[1,1] = -1.3*x-0.32*y+2\n",
    "  return np.linalg.eigvals(C) "
   ]
  },
  {
   "cell_type": "code",
   "execution_count": 377,
   "metadata": {},
   "outputs": [
    {
     "data": {
      "text/plain": [
       "array([3.8, 2. ])"
      ]
     },
     "execution_count": 377,
     "metadata": {},
     "output_type": "execute_result"
    }
   ],
   "source": [
    "type_point(0.0, 0.0) "
   ]
  },
  {
   "cell_type": "code",
   "execution_count": 378,
   "metadata": {},
   "outputs": [
    {
     "data": {
      "text/plain": [
       "array([ -2.  , -19.95])"
      ]
     },
     "execution_count": 378,
     "metadata": {},
     "output_type": "execute_result"
    }
   ],
   "source": [
    "type_point(0.0, 12.5) "
   ]
  },
  {
   "cell_type": "code",
   "execution_count": 379,
   "metadata": {},
   "outputs": [
    {
     "data": {
      "text/plain": [
       "array([ 2.21442969, -2.73242969])"
      ]
     },
     "execution_count": 379,
     "metadata": {},
     "output_type": "execute_result"
    }
   ],
   "source": [
    "type_point(1.31, 1.89) "
   ]
  },
  {
   "cell_type": "code",
   "execution_count": 380,
   "metadata": {},
   "outputs": [
    {
     "data": {
      "text/plain": [
       "array([ -3.8  , -28.875])"
      ]
     },
     "execution_count": 380,
     "metadata": {},
     "output_type": "execute_result"
    }
   ],
   "source": [
    "type_point(23.75, 0.0) "
   ]
  },
  {
   "cell_type": "markdown",
   "metadata": {},
   "source": [
    "##### Розв'язки, графіки та фазові портрети "
   ]
  },
  {
   "cell_type": "code",
   "execution_count": 381,
   "metadata": {},
   "outputs": [],
   "source": [
    "# функція для обчислення правих частин системи\n",
    "def right(r, t, a, b, alpha, c, d, beta):\n",
    "  x = r[0] # N1 - перший елемент масива \n",
    "  y = r[1] # N2 - другий елемент масива\n",
    "  fx = a*x-b*x*y-alpha*y**2 # перше рівняння\n",
    "  fy = c*y-d*x*y-beta*y**2 # друге рівняння\n",
    "  return array([fx, fy], float)"
   ]
  },
  {
   "cell_type": "code",
   "execution_count": 382,
   "metadata": {},
   "outputs": [],
   "source": [
    "# функція для розв'язку системи ДР\n",
    "def dr(a, b, alpha, c, d, beta):\n",
    "  r = odeint(right, r0, time, args = (a, b, alpha, c, d, beta))\n",
    "  return r"
   ]
  },
  {
   "cell_type": "code",
   "execution_count": 383,
   "metadata": {},
   "outputs": [],
   "source": [
    "# функція для побудови графіків \n",
    "def pl(r):\n",
    "  plot(time, r[:,0], 'b', label = 'x')\n",
    "  plot(time, r[:,1], 'r', label = 'y')\n",
    "  xlabel('time')\n",
    "  ylabel('x, y')\n",
    "  legend()\n",
    "  show()"
   ]
  },
  {
   "cell_type": "code",
   "execution_count": 384,
   "metadata": {},
   "outputs": [],
   "source": [
    "# функція для побудови фазових портретів \n",
    "def phase_portrait(r): \n",
    "  plot(r[:,0], r[:,1])\n",
    "  xlabel('x')\n",
    "  ylabel('y')\n",
    "  show()"
   ]
  },
  {
   "cell_type": "code",
   "execution_count": 385,
   "metadata": {},
   "outputs": [],
   "source": [
    "# розв'язок: \n",
    "r = dr(a, b, alpha, c, d, beta)"
   ]
  },
  {
   "cell_type": "code",
   "execution_count": 386,
   "metadata": {},
   "outputs": [
    {
     "data": {
      "image/png": "[encoded data removed]",
      "text/plain": [
       "<Figure size 432x288 with 1 Axes>"
      ]
     },
     "metadata": {
      "needs_background": "light"
     },
     "output_type": "display_data"
    }
   ],
   "source": [
    "# графік: \n",
    "pl(r)"
   ]
  },
  {
   "cell_type": "code",
   "execution_count": 387,
   "metadata": {},
   "outputs": [
    {
     "data": {
      "image/png": "[encoded data removed]",
      "text/plain": [
       "<Figure size 432x288 with 1 Axes>"
      ]
     },
     "metadata": {
      "needs_background": "light"
     },
     "output_type": "display_data"
    }
   ],
   "source": [
    "# фазовий портрет: \n",
    "phase_portrait(r)"
   ]
  },
  {
   "cell_type": "markdown",
   "metadata": {},
   "source": [
    "#### Система (2)"
   ]
  },
  {
   "cell_type": "markdown",
   "metadata": {},
   "source": [
    "![model](model_2.png)"
   ]
  },
  {
   "cell_type": "markdown",
   "metadata": {},
   "source": [
    "##### Особливі точки"
   ]
  },
  {
   "cell_type": "code",
   "execution_count": 388,
   "metadata": {},
   "outputs": [
    {
     "data": {
      "image/png": "[encoded data removed]",
      "text/latex": [
       "$\\displaystyle \\left[ \\left( 0.0, \\  0.0\\right), \\  \\left( 0.0, \\  \\frac{c_{1}}{\\beta_{1}}\\right), \\  \\left( \\frac{a_{1}}{\\alpha_{1}}, \\  0.0\\right), \\  \\left( - \\frac{10.0 a_{1} \\beta_{1} + 19.0 c_{1}}{- 10.0 \\alpha_{1} \\beta_{1} + 19.0 d_{1}}, \\  \\frac{- 10.0 a_{1} d_{1} - 10.0 \\alpha_{1} c_{1}}{- 10.0 \\alpha_{1} \\beta_{1} + 19.0 d_{1}}\\right)\\right]$"
      ],
      "text/plain": [
       "⎡            ⎛     c₁⎞  ⎛a₁     ⎞  ⎛-(10.0⋅a₁⋅β₁ + 19.0⋅c₁)   -10.0⋅a₁⋅d₁ - 10\n",
       "⎢(0.0, 0.0), ⎜0.0, ──⎟, ⎜──, 0.0⎟, ⎜────────────────────────, ────────────────\n",
       "⎣            ⎝     β₁⎠  ⎝α₁     ⎠  ⎝ -10.0⋅α₁⋅β₁ + 19.0⋅d₁     -10.0⋅α₁⋅β₁ + 1\n",
       "\n",
       ".0⋅α₁⋅c₁⎞⎤\n",
       "────────⎟⎥\n",
       "9.0⋅d₁  ⎠⎦"
      ]
     },
     "execution_count": 388,
     "metadata": {},
     "output_type": "execute_result"
    }
   ],
   "source": [
    "# символьні змінні\n",
    "x,y = sym.symbols('x,y') #N1, N2\n",
    "a1 = sym.Symbol('a1') #a \n",
    "b1 = sym.Symbol('b1') #b \n",
    "alpha1 = sym.Symbol('alpha1') #alpha\n",
    "c1 = sym.Symbol('c1') #c \n",
    "beta1 = sym.Symbol('beta1') #beta\n",
    "d1 = sym.Symbol('d1') #d\n",
    "\n",
    "# вирази: \n",
    "f = sym.Eq(x*(a1-alpha1*x+b*y), 0)\n",
    "g = sym.Eq(y*(c1+d1*x-beta1*y), 0)\n",
    "sym.solve([f,g],(x,y))"
   ]
  },
  {
   "cell_type": "code",
   "execution_count": 389,
   "metadata": {},
   "outputs": [],
   "source": [
    "# Параметри моделі \n",
    "a = 3.8 \n",
    "b = 1.9 \n",
    "c = 2 \n",
    "d = 1.3\n",
    "alpha = 0.16 \n",
    "beta = 0.16"
   ]
  },
  {
   "cell_type": "code",
   "execution_count": 390,
   "metadata": {},
   "outputs": [
    {
     "data": {
      "image/png": "[encoded data removed]",
      "text/latex": [
       "$\\displaystyle \\left[ \\left( -1.80330551464572, \\  -2.15185730649648\\right), \\  \\left( 0.0, \\  0.0\\right), \\  \\left( 0.0, \\  12.5\\right), \\  \\left( 23.75, \\  0.0\\right)\\right]$"
      ],
      "text/plain": [
       "[(-1.80330551464572, -2.15185730649648), (0.0, 0.0), (0.0, 12.5), (23.75, 0.0)\n",
       "]"
      ]
     },
     "execution_count": 390,
     "metadata": {},
     "output_type": "execute_result"
    }
   ],
   "source": [
    "# підставляємо параметри: \n",
    "f = sym.Eq(x*(a-alpha*x+b*y), 0)\n",
    "g = sym.Eq(y*(c+d*x-beta*y), 0)\n",
    "sym.solve([f,g],(x,y))"
   ]
  },
  {
   "cell_type": "code",
   "execution_count": 391,
   "metadata": {},
   "outputs": [
    {
     "data": {
      "image/png": "[encoded data removed]",
      "text/latex": [
       "$\\displaystyle \\left[ -1.8, \\  -2.15, \\  0.0, \\  0.0, \\  0.0, \\  12.5, \\  23.75, \\  0.0\\right]$"
      ],
      "text/plain": [
       "[-1.8, -2.15, 0.0, 0.0, 0.0, 12.5, 23.75, 0.0]"
      ]
     },
     "execution_count": 391,
     "metadata": {},
     "output_type": "execute_result"
    }
   ],
   "source": [
    "D = sym.solve([f, g], (x,y)) \n",
    "coord_list = [v.round(2) for t in D for v in t]\n",
    "coord_list "
   ]
  },
  {
   "cell_type": "code",
   "execution_count": 392,
   "metadata": {},
   "outputs": [
    {
     "data": {
      "text/latex": [
       "$\\displaystyle \\left[\\begin{matrix}- 0.32 x + 1.9 y + 3.8 & 1.9 x\\\\1.3 y & 1.3 x - 0.32 y + 2\\end{matrix}\\right]$"
      ],
      "text/plain": [
       "⎡-0.32⋅x + 1.9⋅y + 3.8        1.9⋅x       ⎤\n",
       "⎢                                         ⎥\n",
       "⎣        1.3⋅y          1.3⋅x - 0.32⋅y + 2⎦"
      ]
     },
     "execution_count": 392,
     "metadata": {},
     "output_type": "execute_result"
    }
   ],
   "source": [
    "# Якобіан: \n",
    "Jacobian('x , y', ['x*(3.8-0.16*x+1.9*y)','y*(2+1.3*x-0.16*y)']) "
   ]
  },
  {
   "cell_type": "code",
   "execution_count": 393,
   "metadata": {},
   "outputs": [],
   "source": [
    "# функція для визначення типу особливих точок: \n",
    "def type_point(x, y): \n",
    "  C[0,0] = -0.32*x+1.9*y+3.8\n",
    "  C[0,1] = 1.9*x\n",
    "  C[1,0] = 1.3*y\n",
    "  C[1,1] = 1.3*x-0.32*y+2\n",
    "  return np.linalg.eigvals(C) "
   ]
  },
  {
   "cell_type": "code",
   "execution_count": 394,
   "metadata": {},
   "outputs": [
    {
     "data": {
      "text/plain": [
       "array([-2.77237843,  3.41137843])"
      ]
     },
     "execution_count": 394,
     "metadata": {},
     "output_type": "execute_result"
    }
   ],
   "source": [
    "type_point(-1.8, -2.15) "
   ]
  },
  {
   "cell_type": "code",
   "execution_count": 395,
   "metadata": {},
   "outputs": [
    {
     "data": {
      "text/plain": [
       "array([3.8, 2. ])"
      ]
     },
     "execution_count": 395,
     "metadata": {},
     "output_type": "execute_result"
    }
   ],
   "source": [
    "type_point(0, 0) "
   ]
  },
  {
   "cell_type": "code",
   "execution_count": 396,
   "metadata": {},
   "outputs": [
    {
     "data": {
      "text/plain": [
       "array([-2.  , 27.55])"
      ]
     },
     "execution_count": 396,
     "metadata": {},
     "output_type": "execute_result"
    }
   ],
   "source": [
    "type_point(0.0, 12.5) "
   ]
  },
  {
   "cell_type": "code",
   "execution_count": 397,
   "metadata": {},
   "outputs": [
    {
     "data": {
      "text/plain": [
       "array([-3.8  , 32.875])"
      ]
     },
     "execution_count": 397,
     "metadata": {},
     "output_type": "execute_result"
    }
   ],
   "source": [
    "type_point(23.75, 0.0) "
   ]
  },
  {
   "cell_type": "markdown",
   "metadata": {},
   "source": [
    "##### Розв'язки, графіки та фазові портрети "
   ]
  },
  {
   "cell_type": "code",
   "execution_count": 398,
   "metadata": {},
   "outputs": [],
   "source": [
    "# функція для обчислення правих частин системи\n",
    "def right(r, t, a, alpha, b, c, d, beta):\n",
    "  x = r[0] # N1 - перший елемент масива \n",
    "  y = r[1] # N2 - другий елемент масива\n",
    "  fx = x*(a-alpha*x+b*y) # перше рівняння\n",
    "  fy = y*(c+d*x-beta*y) # друге рівняння\n",
    "  return array([fx, fy], float)"
   ]
  },
  {
   "cell_type": "code",
   "execution_count": 399,
   "metadata": {},
   "outputs": [],
   "source": [
    "# функція для розв'язку системи ДР\n",
    "def dr(a, alpha, b, c, d, beta):\n",
    "  r = odeint(right, r0, time, args = (a, alpha, b, c, d, beta))\n",
    "  return r"
   ]
  },
  {
   "cell_type": "code",
   "execution_count": 400,
   "metadata": {},
   "outputs": [],
   "source": [
    "# розв'язок: \n",
    "r = dr(a, b, alpha, c, d, beta)"
   ]
  },
  {
   "cell_type": "code",
   "execution_count": 401,
   "metadata": {},
   "outputs": [
    {
     "data": {
      "image/png": "[encoded data removed]",
      "text/plain": [
       "<Figure size 432x288 with 1 Axes>"
      ]
     },
     "metadata": {
      "needs_background": "light"
     },
     "output_type": "display_data"
    }
   ],
   "source": [
    "# графік: \n",
    "pl(r) "
   ]
  },
  {
   "cell_type": "code",
   "execution_count": 402,
   "metadata": {},
   "outputs": [
    {
     "data": {
      "image/png": "[encoded data removed]",
      "text/plain": [
       "<Figure size 432x288 with 1 Axes>"
      ]
     },
     "metadata": {
      "needs_background": "light"
     },
     "output_type": "display_data"
    }
   ],
   "source": [
    "# фазовий портрет:  \n",
    "phase_portrait(r)"
   ]
  },
  {
   "cell_type": "markdown",
   "metadata": {},
   "source": [
    "### Завдання 3"
   ]
  },
  {
   "cell_type": "markdown",
   "metadata": {},
   "source": [
    "![task3](task3.png)"
   ]
  },
  {
   "cell_type": "markdown",
   "metadata": {},
   "source": [
    "#### Система (1)"
   ]
  },
  {
   "cell_type": "markdown",
   "metadata": {},
   "source": [
    "![model](model_1_2.png)"
   ]
  },
  {
   "cell_type": "markdown",
   "metadata": {},
   "source": [
    "##### Розв'язки, графіки та фазовий портрет"
   ]
  },
  {
   "cell_type": "code",
   "execution_count": 403,
   "metadata": {},
   "outputs": [],
   "source": [
    "# функція для обчислення правих частин системи\n",
    "def right(r, t, eps, gamma, n):\n",
    "  x = r[0] # N1 - перший елемент масива \n",
    "  y = r[1] # N2 - другий елемент масива\n",
    "  fx = x-x*y-eps*x**2 # перше рівняння\n",
    "  fy = -gamma*y+(x*y**2)/(n+y) # друге рівняння\n",
    "  return array([fx, fy], float)"
   ]
  },
  {
   "cell_type": "code",
   "execution_count": 404,
   "metadata": {},
   "outputs": [],
   "source": [
    "# функція для розв'язку системи ДР\n",
    "def dr(eps, gamma, n):\n",
    "  r = odeint(right, r0, time, args = (eps, gamma, n))\n",
    "  return r"
   ]
  },
  {
   "cell_type": "markdown",
   "metadata": {},
   "source": [
    "##### Параметри: 1, 1, 1"
   ]
  },
  {
   "cell_type": "code",
   "execution_count": 405,
   "metadata": {},
   "outputs": [],
   "source": [
    "eps = 1\n",
    "gamma = 1\n",
    "n = 1"
   ]
  },
  {
   "cell_type": "code",
   "execution_count": 406,
   "metadata": {},
   "outputs": [],
   "source": [
    "# розв'язок: \n",
    "r = dr(eps, gamma, n)"
   ]
  },
  {
   "cell_type": "code",
   "execution_count": 407,
   "metadata": {},
   "outputs": [
    {
     "data": {
      "image/png": "[encoded data removed]",
      "text/plain": [
       "<Figure size 432x288 with 1 Axes>"
      ]
     },
     "metadata": {
      "needs_background": "light"
     },
     "output_type": "display_data"
    }
   ],
   "source": [
    "# графік: \n",
    "pl(r)"
   ]
  },
  {
   "cell_type": "code",
   "execution_count": 408,
   "metadata": {},
   "outputs": [
    {
     "data": {
      "image/png": "[encoded data removed]",
      "text/plain": [
       "<Figure size 432x288 with 1 Axes>"
      ]
     },
     "metadata": {
      "needs_background": "light"
     },
     "output_type": "display_data"
    }
   ],
   "source": [
    "# фазовий портрет: \n",
    "phase_portrait(r)"
   ]
  },
  {
   "cell_type": "markdown",
   "metadata": {},
   "source": [
    "##### Параметри: 1.7, 0.3, 0.1"
   ]
  },
  {
   "cell_type": "code",
   "execution_count": 409,
   "metadata": {},
   "outputs": [],
   "source": [
    "eps = 1.7\n",
    "gamma = 0.3\n",
    "n = 0.1"
   ]
  },
  {
   "cell_type": "code",
   "execution_count": 410,
   "metadata": {},
   "outputs": [],
   "source": [
    "# розв'язок: \n",
    "r = dr(eps, gamma, n)"
   ]
  },
  {
   "cell_type": "code",
   "execution_count": 411,
   "metadata": {},
   "outputs": [
    {
     "data": {
      "image/png": "[encoded data removed]",
      "text/plain": [
       "<Figure size 432x288 with 1 Axes>"
      ]
     },
     "metadata": {
      "needs_background": "light"
     },
     "output_type": "display_data"
    }
   ],
   "source": [
    "# графік: \n",
    "pl(r)"
   ]
  },
  {
   "cell_type": "code",
   "execution_count": 412,
   "metadata": {},
   "outputs": [
    {
     "data": {
      "image/png": "[encoded data removed]",
      "text/plain": [
       "<Figure size 432x288 with 1 Axes>"
      ]
     },
     "metadata": {
      "needs_background": "light"
     },
     "output_type": "display_data"
    }
   ],
   "source": [
    "# фазовий портрет: \n",
    "phase_portrait(r)"
   ]
  },
  {
   "cell_type": "markdown",
   "metadata": {},
   "source": [
    "##### Параметри: 0.7, 0.225, 0.4 "
   ]
  },
  {
   "cell_type": "code",
   "execution_count": 413,
   "metadata": {},
   "outputs": [],
   "source": [
    "eps = 0.7\n",
    "gamma = 0.225\n",
    "n = 0.4"
   ]
  },
  {
   "cell_type": "code",
   "execution_count": 414,
   "metadata": {},
   "outputs": [],
   "source": [
    "# розв'язок: \n",
    "r = dr(eps, gamma, n)"
   ]
  },
  {
   "cell_type": "code",
   "execution_count": 415,
   "metadata": {},
   "outputs": [
    {
     "data": {
      "image/png": "[encoded data removed]",
      "text/plain": [
       "<Figure size 432x288 with 1 Axes>"
      ]
     },
     "metadata": {
      "needs_background": "light"
     },
     "output_type": "display_data"
    }
   ],
   "source": [
    "# графік: \n",
    "pl(r)"
   ]
  },
  {
   "cell_type": "code",
   "execution_count": 416,
   "metadata": {},
   "outputs": [
    {
     "data": {
      "image/png": "[encoded data removed]",
      "text/plain": [
       "<Figure size 432x288 with 1 Axes>"
      ]
     },
     "metadata": {
      "needs_background": "light"
     },
     "output_type": "display_data"
    }
   ],
   "source": [
    "# фазовий портрет: \n",
    "phase_portrait(r)"
   ]
  },
  {
   "cell_type": "markdown",
   "metadata": {},
   "source": [
    "##### Особливі точки та їх тип"
   ]
  },
  {
   "cell_type": "code",
   "execution_count": 417,
   "metadata": {},
   "outputs": [
    {
     "data": {
      "image/png": "[encoded data removed]",
      "text/latex": [
       "$\\displaystyle \\left[ \\left( 0, \\  0\\right), \\  \\left( \\frac{1}{\\epsilon_{1}}, \\  0\\right), \\  \\left( \\frac{\\gamma_{1} \\left(- \\epsilon_{1} \\gamma_{1} + 2 n_{1} + \\sqrt{\\epsilon_{1}^{2} \\gamma_{1}^{2} - 4 \\epsilon_{1} \\gamma_{1} n_{1} - 2 \\epsilon_{1} \\gamma_{1} + 1} + 1\\right)}{- \\epsilon_{1} \\gamma_{1} + \\sqrt{\\epsilon_{1}^{2} \\gamma_{1}^{2} - 4 \\epsilon_{1} \\gamma_{1} n_{1} - 2 \\epsilon_{1} \\gamma_{1} + 1} + 1}, \\  - \\frac{\\epsilon_{1} \\gamma_{1}}{2} + \\frac{\\sqrt{\\epsilon_{1}^{2} \\gamma_{1}^{2} - 4 \\epsilon_{1} \\gamma_{1} n_{1} - 2 \\epsilon_{1} \\gamma_{1} + 1}}{2} + \\frac{1}{2}\\right), \\  \\left( \\frac{\\gamma_{1} \\left(\\epsilon_{1} \\gamma_{1} - 2 n_{1} + \\sqrt{\\epsilon_{1}^{2} \\gamma_{1}^{2} - 4 \\epsilon_{1} \\gamma_{1} n_{1} - 2 \\epsilon_{1} \\gamma_{1} + 1} - 1\\right)}{\\epsilon_{1} \\gamma_{1} + \\sqrt{\\epsilon_{1}^{2} \\gamma_{1}^{2} - 4 \\epsilon_{1} \\gamma_{1} n_{1} - 2 \\epsilon_{1} \\gamma_{1} + 1} - 1}, \\  - \\frac{\\epsilon_{1} \\gamma_{1}}{2} - \\frac{\\sqrt{\\epsilon_{1}^{2} \\gamma_{1}^{2} - 4 \\epsilon_{1} \\gamma_{1} n_{1} - 2 \\epsilon_{1} \\gamma_{1} + 1}}{2} + \\frac{1}{2}\\right)\\right]$"
      ],
      "text/plain": [
       "⎡                 ⎛   ⎛                   ____________________________________\n",
       "⎢                 ⎜   ⎜                  ╱   2   2                            \n",
       "⎢        ⎛1    ⎞  ⎜γ₁⋅⎝-ε₁⋅γ₁ + 2⋅n₁ + ╲╱  ε₁ ⋅γ₁  - 4⋅ε₁⋅γ₁⋅n₁ - 2⋅ε₁⋅γ₁ + 1 \n",
       "⎢(0, 0), ⎜──, 0⎟, ⎜───────────────────────────────────────────────────────────\n",
       "⎢        ⎝ε₁   ⎠  ⎜                  ____________________________________     \n",
       "⎢                 ⎜                 ╱   2   2                                 \n",
       "⎣                 ⎝      -ε₁⋅γ₁ + ╲╱  ε₁ ⋅γ₁  - 4⋅ε₁⋅γ₁⋅n₁ - 2⋅ε₁⋅γ₁ + 1  + 1 \n",
       "\n",
       "    ⎞               ____________________________________    ⎞  ⎛   ⎛          \n",
       "    ⎟              ╱   2   2                                ⎟  ⎜   ⎜          \n",
       " + 1⎠    ε₁⋅γ₁   ╲╱  ε₁ ⋅γ₁  - 4⋅ε₁⋅γ₁⋅n₁ - 2⋅ε₁⋅γ₁ + 1    1⎟  ⎜γ₁⋅⎝ε₁⋅γ₁ - 2⋅\n",
       "─────, - ───── + ─────────────────────────────────────── + ─⎟, ⎜──────────────\n",
       "           2                        2                      2⎟  ⎜              \n",
       "                                                            ⎟  ⎜              \n",
       "                                                            ⎠  ⎝      ε₁⋅γ₁ + \n",
       "\n",
       "        ____________________________________    ⎞               ______________\n",
       "       ╱   2   2                                ⎟              ╱   2   2      \n",
       "n₁ + ╲╱  ε₁ ⋅γ₁  - 4⋅ε₁⋅γ₁⋅n₁ - 2⋅ε₁⋅γ₁ + 1  - 1⎠    ε₁⋅γ₁   ╲╱  ε₁ ⋅γ₁  - 4⋅ε\n",
       "─────────────────────────────────────────────────, - ───── - ─────────────────\n",
       "   ____________________________________                2                      \n",
       "  ╱   2   2                                                                   \n",
       "╲╱  ε₁ ⋅γ₁  - 4⋅ε₁⋅γ₁⋅n₁ - 2⋅ε₁⋅γ₁ + 1  - 1                                   \n",
       "\n",
       "______________________    ⎞⎤\n",
       "                          ⎟⎥\n",
       "₁⋅γ₁⋅n₁ - 2⋅ε₁⋅γ₁ + 1    1⎟⎥\n",
       "────────────────────── + ─⎟⎥\n",
       "  2                      2⎟⎥\n",
       "                          ⎟⎥\n",
       "                          ⎠⎦"
      ]
     },
     "execution_count": 417,
     "metadata": {},
     "output_type": "execute_result"
    }
   ],
   "source": [
    "# символьні змінні\n",
    "x,y = sym.symbols('x,y') \n",
    "eps1 = sym.Symbol('epsilon1')\n",
    "gamma1 = sym.Symbol('gamma1')\n",
    "n1 = sym.Symbol('n1')\n",
    "# вирази: \n",
    "f = sym.Eq(x-x*y-eps1*x**2, 0)\n",
    "g = sym.Eq(-gamma1*y+(x*y**2)/(n1+y), 0)\n",
    "sym.solve([f,g],(x,y))"
   ]
  },
  {
   "cell_type": "code",
   "execution_count": 418,
   "metadata": {},
   "outputs": [
    {
     "data": {
      "text/latex": [
       "$\\displaystyle \\left[\\begin{matrix}- 2 x - y + 1 & - x\\\\\\frac{y^{2}}{y + 1} & - \\frac{x y^{2}}{\\left(y + 1\\right)^{2}} + \\frac{2 x y}{y + 1} - 1\\end{matrix}\\right]$"
      ],
      "text/plain": [
       "⎡-2⋅x - y + 1            -x          ⎤\n",
       "⎢                                    ⎥\n",
       "⎢      2              2              ⎥\n",
       "⎢     y            x⋅y      2⋅x⋅y    ⎥\n",
       "⎢   ─────      - ──────── + ───── - 1⎥\n",
       "⎢   y + 1               2   y + 1    ⎥\n",
       "⎣                (y + 1)             ⎦"
      ]
     },
     "execution_count": 418,
     "metadata": {},
     "output_type": "execute_result"
    }
   ],
   "source": [
    "# Якобіан: \n",
    "Jacobian('x , y', ['x-x*y-1*x**2','-1*y+(x*y**2)/(1+y)'])"
   ]
  },
  {
   "cell_type": "code",
   "execution_count": 419,
   "metadata": {},
   "outputs": [],
   "source": [
    "# функція для визначення типу особливих точок: \n",
    "def type_point(x, y): \n",
    "  C[0,0] = -2*x-y+1\n",
    "  C[0,1] = -x\n",
    "  C[1,0] = (y**2)/(y+1)\n",
    "  C[1,1] = (-(x*y**2)/(y+1)**2) + (2*x*y)/(y+1) - 1\n",
    "  return np.linalg.eigvals(C) "
   ]
  },
  {
   "cell_type": "markdown",
   "metadata": {},
   "source": [
    "##### Параметри: 1, 1, 1"
   ]
  },
  {
   "cell_type": "code",
   "execution_count": 420,
   "metadata": {},
   "outputs": [],
   "source": [
    "# Параметри моделі \n",
    "eps = 1\n",
    "gamma = 1\n",
    "n = 1"
   ]
  },
  {
   "cell_type": "code",
   "execution_count": 421,
   "metadata": {},
   "outputs": [
    {
     "data": {
      "image/png": "[encoded data removed]",
      "text/latex": [
       "$\\displaystyle \\left[ \\left( 0, \\  0\\right), \\  \\left( 1, \\  0\\right), \\  \\left( 1 - i, \\  i\\right), \\  \\left( 1 + i, \\  - i\\right)\\right]$"
      ],
      "text/plain": [
       "[(0, 0), (1, 0), (1 - ⅈ, ⅈ), (1 + ⅈ, -ⅈ)]"
      ]
     },
     "execution_count": 421,
     "metadata": {},
     "output_type": "execute_result"
    }
   ],
   "source": [
    "# підставляємо параметри:  \n",
    "f = sym.Eq(x-x*y-eps*x**2, 0)\n",
    "g = sym.Eq(-gamma*y+(x*y**2)/(n+y), 0)\n",
    "sym.solve([f,g],(x,y))"
   ]
  },
  {
   "cell_type": "code",
   "execution_count": 422,
   "metadata": {},
   "outputs": [
    {
     "data": {
      "image/png": "[encoded data removed]",
      "text/latex": [
       "$\\displaystyle \\left[ 0, \\  0, \\  1, \\  0, \\  1 - i, \\  i, \\  1 + i, \\  - i\\right]$"
      ],
      "text/plain": [
       "[0, 0, 1, 0, 1 - ⅈ, ⅈ, 1 + ⅈ, -ⅈ]"
      ]
     },
     "execution_count": 422,
     "metadata": {},
     "output_type": "execute_result"
    }
   ],
   "source": [
    "D = sym.solve([f, g], (x,y))\n",
    "coord_list = [v.round(2) for t in D for v in t]\n",
    "coord_list "
   ]
  },
  {
   "cell_type": "code",
   "execution_count": 423,
   "metadata": {},
   "outputs": [
    {
     "data": {
      "text/plain": [
       "array([ 1., -1.])"
      ]
     },
     "execution_count": 423,
     "metadata": {},
     "output_type": "execute_result"
    }
   ],
   "source": [
    "type_point(0, 0) "
   ]
  },
  {
   "cell_type": "code",
   "execution_count": 424,
   "metadata": {},
   "outputs": [
    {
     "data": {
      "text/plain": [
       "array([-1., -1.])"
      ]
     },
     "execution_count": 424,
     "metadata": {},
     "output_type": "execute_result"
    }
   ],
   "source": [
    "type_point(1, 0) "
   ]
  },
  {
   "cell_type": "code",
   "execution_count": 425,
   "metadata": {},
   "outputs": [],
   "source": [
    "B = np.zeros((2,2), dtype=complex) "
   ]
  },
  {
   "cell_type": "code",
   "execution_count": 426,
   "metadata": {},
   "outputs": [
    {
     "data": {
      "text/plain": [
       "array([-1.28077641+1.28077641j,  0.78077641-0.78077641j])"
      ]
     },
     "execution_count": 426,
     "metadata": {},
     "output_type": "execute_result"
    }
   ],
   "source": [
    "x = 1-1j\n",
    "y = 1j\n",
    "B[0,0] = -2*x-y+1\n",
    "B[0,1] = -x\n",
    "B[1,0] = (y**2)/(y+1)\n",
    "B[1,1] = (-(x*y**2)/(y+1)**2) + (2*x*y)/(y+1) - 1\n",
    "np.linalg.eigvals(B)  "
   ]
  },
  {
   "cell_type": "code",
   "execution_count": 427,
   "metadata": {},
   "outputs": [
    {
     "data": {
      "text/plain": [
       "array([-1.28077641-1.28077641j,  0.78077641+0.78077641j])"
      ]
     },
     "execution_count": 427,
     "metadata": {},
     "output_type": "execute_result"
    }
   ],
   "source": [
    "x = 1+1j\n",
    "y = -1j\n",
    "B[0,0] = -2*x-y+1\n",
    "B[0,1] = -x\n",
    "B[1,0] = (y**2)/(y+1)\n",
    "B[1,1] = (-(x*y**2)/(y+1)**2) + (2*x*y)/(y+1) - 1\n",
    "np.linalg.eigvals(B)  "
   ]
  },
  {
   "cell_type": "markdown",
   "metadata": {},
   "source": [
    "##### Параметри: 1.7, 0.3, 0.1"
   ]
  },
  {
   "cell_type": "code",
   "execution_count": 428,
   "metadata": {},
   "outputs": [
    {
     "data": {
      "image/png": "[encoded data removed]",
      "text/latex": [
       "$\\displaystyle \\left[ \\left( 0, \\  0\\right), \\  \\left( \\frac{1}{\\epsilon_{1}}, \\  0\\right), \\  \\left( \\frac{\\gamma_{1} \\left(- \\epsilon_{1} \\gamma_{1} + 2 n_{1} + \\sqrt{\\epsilon_{1}^{2} \\gamma_{1}^{2} - 4 \\epsilon_{1} \\gamma_{1} n_{1} - 2 \\epsilon_{1} \\gamma_{1} + 1} + 1\\right)}{- \\epsilon_{1} \\gamma_{1} + \\sqrt{\\epsilon_{1}^{2} \\gamma_{1}^{2} - 4 \\epsilon_{1} \\gamma_{1} n_{1} - 2 \\epsilon_{1} \\gamma_{1} + 1} + 1}, \\  - \\frac{\\epsilon_{1} \\gamma_{1}}{2} + \\frac{\\sqrt{\\epsilon_{1}^{2} \\gamma_{1}^{2} - 4 \\epsilon_{1} \\gamma_{1} n_{1} - 2 \\epsilon_{1} \\gamma_{1} + 1}}{2} + \\frac{1}{2}\\right), \\  \\left( \\frac{\\gamma_{1} \\left(\\epsilon_{1} \\gamma_{1} - 2 n_{1} + \\sqrt{\\epsilon_{1}^{2} \\gamma_{1}^{2} - 4 \\epsilon_{1} \\gamma_{1} n_{1} - 2 \\epsilon_{1} \\gamma_{1} + 1} - 1\\right)}{\\epsilon_{1} \\gamma_{1} + \\sqrt{\\epsilon_{1}^{2} \\gamma_{1}^{2} - 4 \\epsilon_{1} \\gamma_{1} n_{1} - 2 \\epsilon_{1} \\gamma_{1} + 1} - 1}, \\  - \\frac{\\epsilon_{1} \\gamma_{1}}{2} - \\frac{\\sqrt{\\epsilon_{1}^{2} \\gamma_{1}^{2} - 4 \\epsilon_{1} \\gamma_{1} n_{1} - 2 \\epsilon_{1} \\gamma_{1} + 1}}{2} + \\frac{1}{2}\\right)\\right]$"
      ],
      "text/plain": [
       "⎡                 ⎛   ⎛                   ____________________________________\n",
       "⎢                 ⎜   ⎜                  ╱   2   2                            \n",
       "⎢        ⎛1    ⎞  ⎜γ₁⋅⎝-ε₁⋅γ₁ + 2⋅n₁ + ╲╱  ε₁ ⋅γ₁  - 4⋅ε₁⋅γ₁⋅n₁ - 2⋅ε₁⋅γ₁ + 1 \n",
       "⎢(0, 0), ⎜──, 0⎟, ⎜───────────────────────────────────────────────────────────\n",
       "⎢        ⎝ε₁   ⎠  ⎜                  ____________________________________     \n",
       "⎢                 ⎜                 ╱   2   2                                 \n",
       "⎣                 ⎝      -ε₁⋅γ₁ + ╲╱  ε₁ ⋅γ₁  - 4⋅ε₁⋅γ₁⋅n₁ - 2⋅ε₁⋅γ₁ + 1  + 1 \n",
       "\n",
       "    ⎞               ____________________________________    ⎞  ⎛   ⎛          \n",
       "    ⎟              ╱   2   2                                ⎟  ⎜   ⎜          \n",
       " + 1⎠    ε₁⋅γ₁   ╲╱  ε₁ ⋅γ₁  - 4⋅ε₁⋅γ₁⋅n₁ - 2⋅ε₁⋅γ₁ + 1    1⎟  ⎜γ₁⋅⎝ε₁⋅γ₁ - 2⋅\n",
       "─────, - ───── + ─────────────────────────────────────── + ─⎟, ⎜──────────────\n",
       "           2                        2                      2⎟  ⎜              \n",
       "                                                            ⎟  ⎜              \n",
       "                                                            ⎠  ⎝      ε₁⋅γ₁ + \n",
       "\n",
       "        ____________________________________    ⎞               ______________\n",
       "       ╱   2   2                                ⎟              ╱   2   2      \n",
       "n₁ + ╲╱  ε₁ ⋅γ₁  - 4⋅ε₁⋅γ₁⋅n₁ - 2⋅ε₁⋅γ₁ + 1  - 1⎠    ε₁⋅γ₁   ╲╱  ε₁ ⋅γ₁  - 4⋅ε\n",
       "─────────────────────────────────────────────────, - ───── - ─────────────────\n",
       "   ____________________________________                2                      \n",
       "  ╱   2   2                                                                   \n",
       "╲╱  ε₁ ⋅γ₁  - 4⋅ε₁⋅γ₁⋅n₁ - 2⋅ε₁⋅γ₁ + 1  - 1                                   \n",
       "\n",
       "______________________    ⎞⎤\n",
       "                          ⎟⎥\n",
       "₁⋅γ₁⋅n₁ - 2⋅ε₁⋅γ₁ + 1    1⎟⎥\n",
       "────────────────────── + ─⎟⎥\n",
       "  2                      2⎟⎥\n",
       "                          ⎟⎥\n",
       "                          ⎠⎦"
      ]
     },
     "execution_count": 428,
     "metadata": {},
     "output_type": "execute_result"
    }
   ],
   "source": [
    "# символьні змінні \n",
    "x,y = sym.symbols('x,y') \n",
    "eps1 = sym.Symbol('epsilon1')\n",
    "gamma1 = sym.Symbol('gamma1')\n",
    "n1 = sym.Symbol('n1')\n",
    "# вирази: \n",
    "f = sym.Eq(x-x*y-eps1*x**2, 0)\n",
    "g = sym.Eq(-gamma1*y+(x*y**2)/(n1+y), 0)\n",
    "sym.solve([f,g],(x,y))"
   ]
  },
  {
   "cell_type": "code",
   "execution_count": 429,
   "metadata": {},
   "outputs": [],
   "source": [
    "# Параметри моделі \n",
    "eps = 1.7\n",
    "gamma = 0.3\n",
    "n = 0.1"
   ]
  },
  {
   "cell_type": "code",
   "execution_count": 430,
   "metadata": {},
   "outputs": [
    {
     "data": {
      "image/png": "[encoded data removed]",
      "text/latex": [
       "$\\displaystyle \\left[ \\left( 0.0, \\  0.0\\right), \\  \\left( 0.388235294117647, \\  0.34\\right), \\  \\left( 0.5, \\  0.15\\right), \\  \\left( 0.588235294117647, \\  0.0\\right)\\right]$"
      ],
      "text/plain": [
       "[(0.0, 0.0), (0.388235294117647, 0.34), (0.5, 0.15), (0.588235294117647, 0.0)]"
      ]
     },
     "execution_count": 430,
     "metadata": {},
     "output_type": "execute_result"
    }
   ],
   "source": [
    "# підставляємо параметри: \n",
    "f = sym.Eq(x-x*y-eps*x**2, 0)\n",
    "g = sym.Eq(-gamma*y+(x*y**2)/(n+y), 0)\n",
    "sym.solve([f,g],(x,y))"
   ]
  },
  {
   "cell_type": "code",
   "execution_count": 431,
   "metadata": {},
   "outputs": [
    {
     "data": {
      "image/png": "[encoded data removed]",
      "text/latex": [
       "$\\displaystyle \\left[ 0.0, \\  0.0, \\  0.39, \\  0.34, \\  0.5, \\  0.15, \\  0.59, \\  0.0\\right]$"
      ],
      "text/plain": [
       "[0.0, 0.0, 0.39, 0.34, 0.5, 0.15, 0.59, 0.0]"
      ]
     },
     "execution_count": 431,
     "metadata": {},
     "output_type": "execute_result"
    }
   ],
   "source": [
    "D = sym.solve([f, g], (x,y)) \n",
    "coord_list = [v.round(2) for t in D for v in t]\n",
    "coord_list"
   ]
  },
  {
   "cell_type": "code",
   "execution_count": 432,
   "metadata": {},
   "outputs": [
    {
     "data": {
      "text/plain": [
       "array([ 1., -1.])"
      ]
     },
     "execution_count": 432,
     "metadata": {},
     "output_type": "execute_result"
    }
   ],
   "source": [
    "type_point(0, 0) "
   ]
  },
  {
   "cell_type": "code",
   "execution_count": 433,
   "metadata": {},
   "outputs": [
    {
     "data": {
      "text/plain": [
       "array([-0.17129542, -0.77590218])"
      ]
     },
     "execution_count": 433,
     "metadata": {},
     "output_type": "execute_result"
    }
   ],
   "source": [
    "type_point(0.39, 0.34) "
   ]
  },
  {
   "cell_type": "code",
   "execution_count": 434,
   "metadata": {},
   "outputs": [
    {
     "data": {
      "text/plain": [
       "array([-0.16369388, -0.86437795])"
      ]
     },
     "execution_count": 434,
     "metadata": {},
     "output_type": "execute_result"
    }
   ],
   "source": [
    "type_point(0.5, 0.15) "
   ]
  },
  {
   "cell_type": "code",
   "execution_count": 435,
   "metadata": {},
   "outputs": [
    {
     "data": {
      "text/plain": [
       "array([-0.18, -1.  ])"
      ]
     },
     "execution_count": 435,
     "metadata": {},
     "output_type": "execute_result"
    }
   ],
   "source": [
    "type_point(0.59, 0.0) "
   ]
  },
  {
   "cell_type": "markdown",
   "metadata": {},
   "source": [
    "##### Параметри: 0.7, 0.225, 0.4 "
   ]
  },
  {
   "cell_type": "code",
   "execution_count": 436,
   "metadata": {},
   "outputs": [
    {
     "data": {
      "image/png": "[encoded data removed]",
      "text/latex": [
       "$\\displaystyle \\left[ \\left( 0, \\  0\\right), \\  \\left( \\frac{1}{\\epsilon_{1}}, \\  0\\right), \\  \\left( \\frac{\\gamma_{1} \\left(- \\epsilon_{1} \\gamma_{1} + 2 n_{1} + \\sqrt{\\epsilon_{1}^{2} \\gamma_{1}^{2} - 4 \\epsilon_{1} \\gamma_{1} n_{1} - 2 \\epsilon_{1} \\gamma_{1} + 1} + 1\\right)}{- \\epsilon_{1} \\gamma_{1} + \\sqrt{\\epsilon_{1}^{2} \\gamma_{1}^{2} - 4 \\epsilon_{1} \\gamma_{1} n_{1} - 2 \\epsilon_{1} \\gamma_{1} + 1} + 1}, \\  - \\frac{\\epsilon_{1} \\gamma_{1}}{2} + \\frac{\\sqrt{\\epsilon_{1}^{2} \\gamma_{1}^{2} - 4 \\epsilon_{1} \\gamma_{1} n_{1} - 2 \\epsilon_{1} \\gamma_{1} + 1}}{2} + \\frac{1}{2}\\right), \\  \\left( \\frac{\\gamma_{1} \\left(\\epsilon_{1} \\gamma_{1} - 2 n_{1} + \\sqrt{\\epsilon_{1}^{2} \\gamma_{1}^{2} - 4 \\epsilon_{1} \\gamma_{1} n_{1} - 2 \\epsilon_{1} \\gamma_{1} + 1} - 1\\right)}{\\epsilon_{1} \\gamma_{1} + \\sqrt{\\epsilon_{1}^{2} \\gamma_{1}^{2} - 4 \\epsilon_{1} \\gamma_{1} n_{1} - 2 \\epsilon_{1} \\gamma_{1} + 1} - 1}, \\  - \\frac{\\epsilon_{1} \\gamma_{1}}{2} - \\frac{\\sqrt{\\epsilon_{1}^{2} \\gamma_{1}^{2} - 4 \\epsilon_{1} \\gamma_{1} n_{1} - 2 \\epsilon_{1} \\gamma_{1} + 1}}{2} + \\frac{1}{2}\\right)\\right]$"
      ],
      "text/plain": [
       "⎡                 ⎛   ⎛                   ____________________________________\n",
       "⎢                 ⎜   ⎜                  ╱   2   2                            \n",
       "⎢        ⎛1    ⎞  ⎜γ₁⋅⎝-ε₁⋅γ₁ + 2⋅n₁ + ╲╱  ε₁ ⋅γ₁  - 4⋅ε₁⋅γ₁⋅n₁ - 2⋅ε₁⋅γ₁ + 1 \n",
       "⎢(0, 0), ⎜──, 0⎟, ⎜───────────────────────────────────────────────────────────\n",
       "⎢        ⎝ε₁   ⎠  ⎜                  ____________________________________     \n",
       "⎢                 ⎜                 ╱   2   2                                 \n",
       "⎣                 ⎝      -ε₁⋅γ₁ + ╲╱  ε₁ ⋅γ₁  - 4⋅ε₁⋅γ₁⋅n₁ - 2⋅ε₁⋅γ₁ + 1  + 1 \n",
       "\n",
       "    ⎞               ____________________________________    ⎞  ⎛   ⎛          \n",
       "    ⎟              ╱   2   2                                ⎟  ⎜   ⎜          \n",
       " + 1⎠    ε₁⋅γ₁   ╲╱  ε₁ ⋅γ₁  - 4⋅ε₁⋅γ₁⋅n₁ - 2⋅ε₁⋅γ₁ + 1    1⎟  ⎜γ₁⋅⎝ε₁⋅γ₁ - 2⋅\n",
       "─────, - ───── + ─────────────────────────────────────── + ─⎟, ⎜──────────────\n",
       "           2                        2                      2⎟  ⎜              \n",
       "                                                            ⎟  ⎜              \n",
       "                                                            ⎠  ⎝      ε₁⋅γ₁ + \n",
       "\n",
       "        ____________________________________    ⎞               ______________\n",
       "       ╱   2   2                                ⎟              ╱   2   2      \n",
       "n₁ + ╲╱  ε₁ ⋅γ₁  - 4⋅ε₁⋅γ₁⋅n₁ - 2⋅ε₁⋅γ₁ + 1  - 1⎠    ε₁⋅γ₁   ╲╱  ε₁ ⋅γ₁  - 4⋅ε\n",
       "─────────────────────────────────────────────────, - ───── - ─────────────────\n",
       "   ____________________________________                2                      \n",
       "  ╱   2   2                                                                   \n",
       "╲╱  ε₁ ⋅γ₁  - 4⋅ε₁⋅γ₁⋅n₁ - 2⋅ε₁⋅γ₁ + 1  - 1                                   \n",
       "\n",
       "______________________    ⎞⎤\n",
       "                          ⎟⎥\n",
       "₁⋅γ₁⋅n₁ - 2⋅ε₁⋅γ₁ + 1    1⎟⎥\n",
       "────────────────────── + ─⎟⎥\n",
       "  2                      2⎟⎥\n",
       "                          ⎟⎥\n",
       "                          ⎠⎦"
      ]
     },
     "execution_count": 436,
     "metadata": {},
     "output_type": "execute_result"
    }
   ],
   "source": [
    "# символьні змінні\n",
    "x,y = sym.symbols('x,y') \n",
    "eps1 = sym.Symbol('epsilon1')\n",
    "gamma1 = sym.Symbol('gamma1')\n",
    "n1 = sym.Symbol('n1')\n",
    "# вирази: \n",
    "f = sym.Eq(x-x*y-eps1*x**2, 0)\n",
    "g = sym.Eq(-gamma1*y+(x*y**2)/(n1+y), 0)\n",
    "sym.solve([f,g],(x,y))"
   ]
  },
  {
   "cell_type": "code",
   "execution_count": 437,
   "metadata": {},
   "outputs": [],
   "source": [
    "# Параметри моделі \n",
    "eps = 0.7\n",
    "gamma = 0.225\n",
    "n = 0.4"
   ]
  },
  {
   "cell_type": "code",
   "execution_count": 438,
   "metadata": {},
   "outputs": [
    {
     "data": {
      "image/png": "[encoded data removed]",
      "text/latex": [
       "$\\displaystyle \\left[ \\left( 0.0, \\  0.0\\right), \\  \\left( 0.343490134596702, \\  0.759556905782309\\right), \\  \\left( 1.31008129397473, \\  0.0829430942176912\\right), \\  \\left( 1.42857142857143, \\  0.0\\right)\\right]$"
      ],
      "text/plain": [
       "[(0.0, 0.0), (0.343490134596702, 0.759556905782309), (1.31008129397473, 0.0829\n",
       "430942176912), (1.42857142857143, 0.0)]"
      ]
     },
     "execution_count": 438,
     "metadata": {},
     "output_type": "execute_result"
    }
   ],
   "source": [
    "# підставляємо параметри: \n",
    "f = sym.Eq(x-x*y-eps*x**2, 0)\n",
    "g = sym.Eq(-gamma*y+(x*y**2)/(n+y), 0)\n",
    "sym.solve([f,g],(x,y)) "
   ]
  },
  {
   "cell_type": "code",
   "execution_count": 439,
   "metadata": {},
   "outputs": [
    {
     "data": {
      "image/png": "[encoded data removed]",
      "text/latex": [
       "$\\displaystyle \\left[ 0.0, \\  0.0, \\  0.34, \\  0.76, \\  1.31, \\  0.08, \\  1.43, \\  0.0\\right]$"
      ],
      "text/plain": [
       "[0.0, 0.0, 0.34, 0.76, 1.31, 0.08, 1.43, 0.0]"
      ]
     },
     "execution_count": 439,
     "metadata": {},
     "output_type": "execute_result"
    }
   ],
   "source": [
    "D = sym.solve([f, g], (x,y))\n",
    "coord_list = [v.round(2) for t in D for v in t]\n",
    "coord_list "
   ]
  },
  {
   "cell_type": "code",
   "execution_count": 440,
   "metadata": {},
   "outputs": [
    {
     "data": {
      "text/plain": [
       "array([ 1., -1.])"
      ]
     },
     "execution_count": 440,
     "metadata": {},
     "output_type": "execute_result"
    }
   ],
   "source": [
    "type_point(0.0, 0.0) "
   ]
  },
  {
   "cell_type": "code",
   "execution_count": 441,
   "metadata": {},
   "outputs": [
    {
     "data": {
      "text/plain": [
       "array([-0.6048812+0.29050991j, -0.6048812-0.29050991j])"
      ]
     },
     "execution_count": 441,
     "metadata": {},
     "output_type": "execute_result"
    }
   ],
   "source": [
    "type_point(0.34, 0.76) "
   ]
  },
  {
   "cell_type": "code",
   "execution_count": 442,
   "metadata": {},
   "outputs": [
    {
     "data": {
      "text/plain": [
       "array([-1.69115881, -0.82195505])"
      ]
     },
     "execution_count": 442,
     "metadata": {},
     "output_type": "execute_result"
    }
   ],
   "source": [
    "type_point(1.31, 0.08) "
   ]
  },
  {
   "cell_type": "code",
   "execution_count": 443,
   "metadata": {},
   "outputs": [
    {
     "data": {
      "text/plain": [
       "array([-1.86, -1.  ])"
      ]
     },
     "execution_count": 443,
     "metadata": {},
     "output_type": "execute_result"
    }
   ],
   "source": [
    "type_point(1.43, 0.0) "
   ]
  },
  {
   "cell_type": "markdown",
   "metadata": {},
   "source": [
    "#### Система (2)"
   ]
  },
  {
   "cell_type": "markdown",
   "metadata": {},
   "source": [
    "![model](model_2_1.png)"
   ]
  },
  {
   "cell_type": "markdown",
   "metadata": {},
   "source": [
    "![model](model_2_2.png)"
   ]
  },
  {
   "cell_type": "markdown",
   "metadata": {},
   "source": [
    "##### Розв'язки, графіки та фазовий портрет"
   ]
  },
  {
   "cell_type": "code",
   "execution_count": 444,
   "metadata": {},
   "outputs": [],
   "source": [
    "# функція для обчислення правих частин системи\n",
    "def right(r, t, c1, P1, c2, P2):\n",
    "  x = r[0] # N1 - перший елемент масива \n",
    "  y = r[1] # N2 - другий елемент масива\n",
    "  fx = -c1*x+P1*x*y # перше рівняння\n",
    "  fy = -c2*y+P2*x*y # друге рівняння\n",
    "  # для випадку з 2 малюнка, де c1=p1=1, c2=p2:\n",
    "  # fx = -x*(1-y) # перше рівняння\n",
    "  # fy = -c2*y*(1-x) # друге рівняння\n",
    "  return array([fx, fy], float)"
   ]
  },
  {
   "cell_type": "code",
   "execution_count": 445,
   "metadata": {},
   "outputs": [],
   "source": [
    "# функція для розв'язку системи ДР\n",
    "def dr(c1, P1, c2, P2):\n",
    "  r = odeint(right, r0, time, mxstep=5000, args = (c1, P1, c2, P2))\n",
    "  return r"
   ]
  },
  {
   "cell_type": "code",
   "execution_count": 446,
   "metadata": {},
   "outputs": [],
   "source": [
    "# Параметри моделі: \n",
    "c1 = 1\n",
    "P1 = 1\n",
    "c2 = 2\n",
    "P2 = 2"
   ]
  },
  {
   "cell_type": "code",
   "execution_count": 447,
   "metadata": {},
   "outputs": [],
   "source": [
    "# розв'язок: \n",
    "r = dr(c1, P1, c2, P2) "
   ]
  },
  {
   "cell_type": "code",
   "execution_count": 448,
   "metadata": {},
   "outputs": [
    {
     "data": {
      "image/png": "[encoded data removed]",
      "text/plain": [
       "<Figure size 432x288 with 1 Axes>"
      ]
     },
     "metadata": {
      "needs_background": "light"
     },
     "output_type": "display_data"
    }
   ],
   "source": [
    "# графік: \n",
    "pl(r)"
   ]
  },
  {
   "cell_type": "code",
   "execution_count": 449,
   "metadata": {},
   "outputs": [
    {
     "data": {
      "image/png": "[encoded data removed]",
      "text/plain": [
       "<Figure size 432x288 with 1 Axes>"
      ]
     },
     "metadata": {
      "needs_background": "light"
     },
     "output_type": "display_data"
    }
   ],
   "source": [
    "# фазовий портрет: \n",
    "phase_portrait(r)"
   ]
  },
  {
   "cell_type": "markdown",
   "metadata": {},
   "source": [
    "##### Особливі точки, їх тип"
   ]
  },
  {
   "cell_type": "code",
   "execution_count": 450,
   "metadata": {},
   "outputs": [
    {
     "data": {
      "image/png": "[encoded data removed]",
      "text/latex": [
       "$\\displaystyle \\left[ \\left( 0, \\  0\\right), \\  \\left( \\frac{c_{2}}{P_{2}}, \\  \\frac{c_{1}}{P_{1}}\\right)\\right]$"
      ],
      "text/plain": [
       "⎡        ⎛c₂  c₁⎞⎤\n",
       "⎢(0, 0), ⎜──, ──⎟⎥\n",
       "⎣        ⎝P₂  P₁⎠⎦"
      ]
     },
     "execution_count": 450,
     "metadata": {},
     "output_type": "execute_result"
    }
   ],
   "source": [
    "# символьні змінні\n",
    "x,y = sym.symbols('x,y') \n",
    "c1 = sym.Symbol('c1')\n",
    "P1 = sym.Symbol('P1')\n",
    "c2 = sym.Symbol('c2')\n",
    "P2 = sym.Symbol('P2')\n",
    "# вирази: \n",
    "f = sym.Eq(-c1*x+P1*x*y, 0)\n",
    "g = sym.Eq(-c2*y+P2*x*y, 0)\n",
    "sym.solve([f,g],(x,y))"
   ]
  },
  {
   "cell_type": "code",
   "execution_count": 451,
   "metadata": {},
   "outputs": [],
   "source": [
    "# Параметри моделі \n",
    "c1 = 1 \n",
    "P1 = 1\n",
    "c2 = 1\n",
    "P2 = 1"
   ]
  },
  {
   "cell_type": "code",
   "execution_count": 452,
   "metadata": {},
   "outputs": [
    {
     "data": {
      "image/png": "[encoded data removed]",
      "text/latex": [
       "$\\displaystyle \\left[ \\left( 0, \\  0\\right), \\  \\left( 1, \\  1\\right)\\right]$"
      ],
      "text/plain": [
       "[(0, 0), (1, 1)]"
      ]
     },
     "execution_count": 452,
     "metadata": {},
     "output_type": "execute_result"
    }
   ],
   "source": [
    "# підставляємо параметри: \n",
    "f = sym.Eq(-c1*x+P1*x*y, 0)\n",
    "g = sym.Eq(-c2*y+P2*x*y, 0)\n",
    "sym.solve([f,g],(x,y))"
   ]
  },
  {
   "cell_type": "code",
   "execution_count": 453,
   "metadata": {},
   "outputs": [
    {
     "data": {
      "text/latex": [
       "$\\displaystyle \\left[\\begin{matrix}y - 1 & x\\\\y & x - 1\\end{matrix}\\right]$"
      ],
      "text/plain": [
       "⎡y - 1    x  ⎤\n",
       "⎢            ⎥\n",
       "⎣  y    x - 1⎦"
      ]
     },
     "execution_count": 453,
     "metadata": {},
     "output_type": "execute_result"
    }
   ],
   "source": [
    "# Якобіан: \n",
    "Jacobian('x , y', ['-1*x+1*x*y','-1*y+1*x*y'])"
   ]
  },
  {
   "cell_type": "code",
   "execution_count": 454,
   "metadata": {},
   "outputs": [],
   "source": [
    "# функція для визначення типу особливих точок: \n",
    "def type_point(x, y): \n",
    "  C[0,0] = y-1\n",
    "  C[0,1] = x\n",
    "  C[1,0] = y\n",
    "  C[1,1] = x-1\n",
    "  return np.linalg.eigvals(C) "
   ]
  },
  {
   "cell_type": "code",
   "execution_count": 455,
   "metadata": {},
   "outputs": [
    {
     "data": {
      "text/plain": [
       "array([-1., -1.])"
      ]
     },
     "execution_count": 455,
     "metadata": {},
     "output_type": "execute_result"
    }
   ],
   "source": [
    "type_point(0, 0) "
   ]
  },
  {
   "cell_type": "code",
   "execution_count": 456,
   "metadata": {},
   "outputs": [
    {
     "data": {
      "text/plain": [
       "array([ 1., -1.])"
      ]
     },
     "execution_count": 456,
     "metadata": {},
     "output_type": "execute_result"
    }
   ],
   "source": [
    "type_point(1, 1) "
   ]
  }
 ],
 "metadata": {
  "kernelspec": {
   "display_name": "Python 3.10.0 64-bit",
   "language": "python",
   "name": "python3"
  },
  "language_info": {
   "codemirror_mode": {
    "name": "ipython",
    "version": 3
   },
   "file_extension": ".py",
   "mimetype": "text/x-python",
   "name": "python",
   "nbconvert_exporter": "python",
   "pygments_lexer": "ipython3",
   "version": "3.10.0"
  },
  "orig_nbformat": 4,
  "vscode": {
   "interpreter": {
    "hash": "7cbf2bf3a360c90180928050635f4aa21081e2007d65f222f98790c6d7dee56c"
   }
  }
 },
 "nbformat": 4,
 "nbformat_minor": 2
}
